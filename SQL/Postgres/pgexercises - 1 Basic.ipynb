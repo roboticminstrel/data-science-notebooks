{
 "cells": [
  {
   "cell_type": "markdown",
   "metadata": {},
   "source": [
    "# Basic SQL Queries with Postgres\n",
    "\n",
    "For this notebook series, I'll be using exercises from <a href='https://www.pgexercises.com'>pgexercises.com</a>, using data from a hypothetical country club with information on facility usage. You can download the dataset <a href='https://www.pgexercises.com/dbfiles/clubdata.sql'>here</a>. The 3 tables in the dataset have the following format:\n",
    "\n",
    "    CREATE TABLE cd.members\n",
    "    (\n",
    "       memid integer NOT NULL, \n",
    "       surname character varying(200) NOT NULL, \n",
    "       firstname character varying(200) NOT NULL, \n",
    "       address character varying(300) NOT NULL, \n",
    "       zipcode integer NOT NULL, \n",
    "       telephone character varying(20) NOT NULL, \n",
    "       recommendedby integer,\n",
    "       joindate timestamp not null,\n",
    "       CONSTRAINT members_pk PRIMARY KEY (memid),\n",
    "       CONSTRAINT fk_members_recommendedby FOREIGN KEY (recommendedby)\n",
    "       REFERENCES cd.members(memid) ON DELETE SET NULL\n",
    "    );\n",
    "    \n",
    "    CREATE TABLE cd.facilities\n",
    "    (\n",
    "       facid integer NOT NULL, \n",
    "       name character varying(100) NOT NULL, \n",
    "       membercost numeric NOT NULL, \n",
    "       guestcost numeric NOT NULL, \n",
    "       initialoutlay numeric NOT NULL, \n",
    "       monthlymaintenance numeric NOT NULL, \n",
    "       CONSTRAINT facilities_pk PRIMARY KEY (facid)\n",
    "    );\n",
    "    \n",
    "    CREATE TABLE cd.bookings\n",
    "    (\n",
    "       bookid integer NOT NULL, \n",
    "       facid integer NOT NULL, \n",
    "       memid integer NOT NULL, \n",
    "       starttime timestamp NOT NULL,\n",
    "       slots integer NOT NULL,\n",
    "       CONSTRAINT bookings_pk PRIMARY KEY (bookid),\n",
    "       CONSTRAINT fk_bookings_facid FOREIGN KEY (facid) REFERENCES cd.facilities(facid),\n",
    "       CONSTRAINT fk_bookings_memid FOREIGN KEY (memid) REFERENCES cd.members(memid)\n",
    "    );"
   ]
  },
  {
   "cell_type": "markdown",
   "metadata": {},
   "source": [
    "First, we need to load up the dataset into postgres"
   ]
  },
  {
   "cell_type": "code",
   "execution_count": null,
   "metadata": {
    "collapsed": true
   },
   "outputs": [],
   "source": [
    "psql - U postgres -f clubdata.sql -d postgres -x -q"
   ]
  },
  {
   "cell_type": "markdown",
   "metadata": {},
   "source": [
    "I'm going to create a new user for this project, using the command line from the postgres superuser."
   ]
  },
  {
   "cell_type": "code",
   "execution_count": null,
   "metadata": {
    "collapsed": true
   },
   "outputs": [],
   "source": [
    "psql -U postgres"
   ]
  },
  {
   "cell_type": "markdown",
   "metadata": {},
   "source": [
    "then I created a new user james for the project:"
   ]
  },
  {
   "cell_type": "code",
   "execution_count": null,
   "metadata": {
    "collapsed": true
   },
   "outputs": [],
   "source": [
    "CREATE ROLE james WITH LOGIN PASSWORD 'fakepassword';"
   ]
  },
  {
   "cell_type": "markdown",
   "metadata": {},
   "source": [
    "granting privileges on our new table:"
   ]
  },
  {
   "cell_type": "code",
   "execution_count": null,
   "metadata": {
    "collapsed": true
   },
   "outputs": [],
   "source": [
    "GRANT ALL PRIVILEGES ON exercises TO james;"
   ]
  },
  {
   "cell_type": "markdown",
   "metadata": {},
   "source": [
    "Now it's time to dig in with python's psycopg2 interface.\n",
    "\n",
    "First I boot up all the db and set my helper functions. I'm displaying them here for reference, but since I resuse them in all the notebooks of the series, I have this written in a separate pgexercises.py file, and load it up into the cell in the first magic. "
   ]
  },
  {
   "cell_type": "code",
   "execution_count": 132,
   "metadata": {},
   "outputs": [
    {
     "name": "stdout",
     "output_type": "stream",
     "text": [
      "Writing text.py\n"
     ]
    }
   ],
   "source": [
    "# %load pgexercises.py\n",
    "#import postgres interface for python\n",
    "import psycopg2\n",
    "import os\n",
    "import json\n",
    "import pandas as pd\n",
    "from IPython.display import display\n",
    "\n",
    "#keeping output from each cell a little smaller for easy scrolling.\n",
    "pd.set_option('display.max_rows',14)\n",
    "\n",
    "with open('config.json') as f:\n",
    "    conf = json.load(f) \n",
    "\n",
    "postgres_string = \"dbname='{database}' user='{user}' host='{host}' password='{passw}'\".format(**conf)\n",
    "\n",
    "relative_data_path = '../../Data/SQL'\n",
    "database_filename = 'clubdata.sql'\n",
    "\n",
    "try:\n",
    "    conn = psycopg2.connect(\"dbname='exercises' user='james' host='localhost' password='fakepassword'\")\n",
    "except:\n",
    "    print(\"couldn't connect\")\n",
    "cursor = conn.cursor()\n",
    "\n",
    "#helper function for printing. For better jupyter formatting, I'm just using panda's built in read function. \n",
    "def print_output(query):\n",
    "    global conn\n",
    "    display(pd.read_sql_query(query, conn))"
   ]
  },
  {
   "cell_type": "markdown",
   "metadata": {},
   "source": [
    "## Examine one of the tables\n",
    "We'll start by looking at the facilities table. After this cell I'll be using a little helper function to convert the output into a pandas dataframe and display using jupyter's built in display formatting. In this first cell, I also show how you can get the column names from the cursor description. "
   ]
  },
  {
   "cell_type": "code",
   "execution_count": 112,
   "metadata": {},
   "outputs": [
    {
     "name": "stdout",
     "output_type": "stream",
     "text": [
      "column names are:\n",
      " ['facid', 'name', 'membercost', 'guestcost', 'initialoutlay', 'monthlymaintenance'] \n",
      "\n",
      "(0, 'Tennis Court 1', Decimal('5'), Decimal('25'), Decimal('10000'), Decimal('200'))\n",
      "(1, 'Tennis Court 2', Decimal('5'), Decimal('25'), Decimal('8000'), Decimal('200'))\n",
      "(2, 'Badminton Court', Decimal('0'), Decimal('15.5'), Decimal('4000'), Decimal('50'))\n",
      "(3, 'Table Tennis', Decimal('0'), Decimal('5'), Decimal('320'), Decimal('10'))\n",
      "(4, 'Massage Room 1', Decimal('35'), Decimal('80'), Decimal('4000'), Decimal('3000'))\n",
      "(5, 'Massage Room 2', Decimal('35'), Decimal('80'), Decimal('4000'), Decimal('3000'))\n",
      "(6, 'Squash Court', Decimal('3.5'), Decimal('17.5'), Decimal('5000'), Decimal('80'))\n",
      "(7, 'Snooker Table', Decimal('0'), Decimal('5'), Decimal('450'), Decimal('15'))\n",
      "(8, 'Pool Table', Decimal('0'), Decimal('5'), Decimal('400'), Decimal('15'))\n"
     ]
    }
   ],
   "source": [
    "cursor.execute(\"SELECT * FROM cd.facilities;\")\n",
    "\n",
    "#how to get the column names \n",
    "colnames = [desc[0] for desc in cursor.description]\n",
    "print('column names are:\\n',colnames,\"\\n\")\n",
    "\n",
    "rows = cursor.fetchall()\n",
    "for row in rows:\n",
    "    print(row)"
   ]
  },
  {
   "cell_type": "markdown",
   "metadata": {},
   "source": [
    "To get just the name and cost columns:"
   ]
  },
  {
   "cell_type": "code",
   "execution_count": 113,
   "metadata": {},
   "outputs": [
    {
     "data": {
      "text/html": [
       "<div>\n",
       "<style>\n",
       "    .dataframe thead tr:only-child th {\n",
       "        text-align: right;\n",
       "    }\n",
       "\n",
       "    .dataframe thead th {\n",
       "        text-align: left;\n",
       "    }\n",
       "\n",
       "    .dataframe tbody tr th {\n",
       "        vertical-align: top;\n",
       "    }\n",
       "</style>\n",
       "<table border=\"1\" class=\"dataframe\">\n",
       "  <thead>\n",
       "    <tr style=\"text-align: right;\">\n",
       "      <th></th>\n",
       "      <th>name</th>\n",
       "      <th>membercost</th>\n",
       "    </tr>\n",
       "  </thead>\n",
       "  <tbody>\n",
       "    <tr>\n",
       "      <th>0</th>\n",
       "      <td>Tennis Court 1</td>\n",
       "      <td>5.0</td>\n",
       "    </tr>\n",
       "    <tr>\n",
       "      <th>1</th>\n",
       "      <td>Tennis Court 2</td>\n",
       "      <td>5.0</td>\n",
       "    </tr>\n",
       "    <tr>\n",
       "      <th>2</th>\n",
       "      <td>Badminton Court</td>\n",
       "      <td>0.0</td>\n",
       "    </tr>\n",
       "    <tr>\n",
       "      <th>3</th>\n",
       "      <td>Table Tennis</td>\n",
       "      <td>0.0</td>\n",
       "    </tr>\n",
       "    <tr>\n",
       "      <th>4</th>\n",
       "      <td>Massage Room 1</td>\n",
       "      <td>35.0</td>\n",
       "    </tr>\n",
       "    <tr>\n",
       "      <th>5</th>\n",
       "      <td>Massage Room 2</td>\n",
       "      <td>35.0</td>\n",
       "    </tr>\n",
       "    <tr>\n",
       "      <th>6</th>\n",
       "      <td>Squash Court</td>\n",
       "      <td>3.5</td>\n",
       "    </tr>\n",
       "    <tr>\n",
       "      <th>7</th>\n",
       "      <td>Snooker Table</td>\n",
       "      <td>0.0</td>\n",
       "    </tr>\n",
       "    <tr>\n",
       "      <th>8</th>\n",
       "      <td>Pool Table</td>\n",
       "      <td>0.0</td>\n",
       "    </tr>\n",
       "  </tbody>\n",
       "</table>\n",
       "</div>"
      ],
      "text/plain": [
       "              name  membercost\n",
       "0   Tennis Court 1         5.0\n",
       "1   Tennis Court 2         5.0\n",
       "2  Badminton Court         0.0\n",
       "3     Table Tennis         0.0\n",
       "4   Massage Room 1        35.0\n",
       "5   Massage Room 2        35.0\n",
       "6     Squash Court         3.5\n",
       "7    Snooker Table         0.0\n",
       "8       Pool Table         0.0"
      ]
     },
     "metadata": {},
     "output_type": "display_data"
    }
   ],
   "source": [
    "print_output(\"SELECT name,membercost FROM cd.facilities;\")"
   ]
  },
  {
   "cell_type": "markdown",
   "metadata": {},
   "source": [
    "See all the information on facilities that charge an additional fee to users for use:"
   ]
  },
  {
   "cell_type": "code",
   "execution_count": 108,
   "metadata": {},
   "outputs": [
    {
     "data": {
      "text/html": [
       "<div>\n",
       "<style>\n",
       "    .dataframe thead tr:only-child th {\n",
       "        text-align: right;\n",
       "    }\n",
       "\n",
       "    .dataframe thead th {\n",
       "        text-align: left;\n",
       "    }\n",
       "\n",
       "    .dataframe tbody tr th {\n",
       "        vertical-align: top;\n",
       "    }\n",
       "</style>\n",
       "<table border=\"1\" class=\"dataframe\">\n",
       "  <thead>\n",
       "    <tr style=\"text-align: right;\">\n",
       "      <th></th>\n",
       "      <th>facid</th>\n",
       "      <th>name</th>\n",
       "      <th>membercost</th>\n",
       "      <th>guestcost</th>\n",
       "      <th>initialoutlay</th>\n",
       "      <th>monthlymaintenance</th>\n",
       "    </tr>\n",
       "  </thead>\n",
       "  <tbody>\n",
       "    <tr>\n",
       "      <th>0</th>\n",
       "      <td>0</td>\n",
       "      <td>Tennis Court 1</td>\n",
       "      <td>5.0</td>\n",
       "      <td>25.0</td>\n",
       "      <td>10000.0</td>\n",
       "      <td>200.0</td>\n",
       "    </tr>\n",
       "    <tr>\n",
       "      <th>1</th>\n",
       "      <td>1</td>\n",
       "      <td>Tennis Court 2</td>\n",
       "      <td>5.0</td>\n",
       "      <td>25.0</td>\n",
       "      <td>8000.0</td>\n",
       "      <td>200.0</td>\n",
       "    </tr>\n",
       "    <tr>\n",
       "      <th>2</th>\n",
       "      <td>4</td>\n",
       "      <td>Massage Room 1</td>\n",
       "      <td>35.0</td>\n",
       "      <td>80.0</td>\n",
       "      <td>4000.0</td>\n",
       "      <td>3000.0</td>\n",
       "    </tr>\n",
       "    <tr>\n",
       "      <th>3</th>\n",
       "      <td>5</td>\n",
       "      <td>Massage Room 2</td>\n",
       "      <td>35.0</td>\n",
       "      <td>80.0</td>\n",
       "      <td>4000.0</td>\n",
       "      <td>3000.0</td>\n",
       "    </tr>\n",
       "    <tr>\n",
       "      <th>4</th>\n",
       "      <td>6</td>\n",
       "      <td>Squash Court</td>\n",
       "      <td>3.5</td>\n",
       "      <td>17.5</td>\n",
       "      <td>5000.0</td>\n",
       "      <td>80.0</td>\n",
       "    </tr>\n",
       "  </tbody>\n",
       "</table>\n",
       "</div>"
      ],
      "text/plain": [
       "   facid            name  membercost  guestcost  initialoutlay  \\\n",
       "0      0  Tennis Court 1         5.0       25.0        10000.0   \n",
       "1      1  Tennis Court 2         5.0       25.0         8000.0   \n",
       "2      4  Massage Room 1        35.0       80.0         4000.0   \n",
       "3      5  Massage Room 2        35.0       80.0         4000.0   \n",
       "4      6    Squash Court         3.5       17.5         5000.0   \n",
       "\n",
       "   monthlymaintenance  \n",
       "0               200.0  \n",
       "1               200.0  \n",
       "2              3000.0  \n",
       "3              3000.0  \n",
       "4                80.0  "
      ]
     },
     "metadata": {},
     "output_type": "display_data"
    }
   ],
   "source": [
    "print_output(\"SELECT * FROM cd.facilities WHERE membercost > 0;\")"
   ]
  },
  {
   "cell_type": "markdown",
   "metadata": {},
   "source": [
    "Get the 4 relevant columns for the rows that charge a member cost, but that cost is under 1/50th the monthly maintenance cost of that facility. "
   ]
  },
  {
   "cell_type": "code",
   "execution_count": 114,
   "metadata": {},
   "outputs": [
    {
     "data": {
      "text/html": [
       "<div>\n",
       "<style>\n",
       "    .dataframe thead tr:only-child th {\n",
       "        text-align: right;\n",
       "    }\n",
       "\n",
       "    .dataframe thead th {\n",
       "        text-align: left;\n",
       "    }\n",
       "\n",
       "    .dataframe tbody tr th {\n",
       "        vertical-align: top;\n",
       "    }\n",
       "</style>\n",
       "<table border=\"1\" class=\"dataframe\">\n",
       "  <thead>\n",
       "    <tr style=\"text-align: right;\">\n",
       "      <th></th>\n",
       "      <th>facid</th>\n",
       "      <th>name</th>\n",
       "      <th>membercost</th>\n",
       "      <th>monthlymaintenance</th>\n",
       "    </tr>\n",
       "  </thead>\n",
       "  <tbody>\n",
       "    <tr>\n",
       "      <th>0</th>\n",
       "      <td>4</td>\n",
       "      <td>Massage Room 1</td>\n",
       "      <td>35.0</td>\n",
       "      <td>3000.0</td>\n",
       "    </tr>\n",
       "    <tr>\n",
       "      <th>1</th>\n",
       "      <td>5</td>\n",
       "      <td>Massage Room 2</td>\n",
       "      <td>35.0</td>\n",
       "      <td>3000.0</td>\n",
       "    </tr>\n",
       "  </tbody>\n",
       "</table>\n",
       "</div>"
      ],
      "text/plain": [
       "   facid            name  membercost  monthlymaintenance\n",
       "0      4  Massage Room 1        35.0              3000.0\n",
       "1      5  Massage Room 2        35.0              3000.0"
      ]
     },
     "metadata": {},
     "output_type": "display_data"
    }
   ],
   "source": [
    "q = \"\"\"\n",
    "    SELECT facid,name,membercost,monthlymaintenance \n",
    "    FROM cd.facilities \n",
    "    WHERE membercost > 0 AND membercost < monthlymaintenance/50;\"\"\"\n",
    "\n",
    "print_output(q)"
   ]
  },
  {
   "cell_type": "markdown",
   "metadata": {},
   "source": [
    "Get all the rows where the 'name' column containts the substring 'Tennis'"
   ]
  },
  {
   "cell_type": "code",
   "execution_count": 115,
   "metadata": {},
   "outputs": [
    {
     "data": {
      "text/html": [
       "<div>\n",
       "<style>\n",
       "    .dataframe thead tr:only-child th {\n",
       "        text-align: right;\n",
       "    }\n",
       "\n",
       "    .dataframe thead th {\n",
       "        text-align: left;\n",
       "    }\n",
       "\n",
       "    .dataframe tbody tr th {\n",
       "        vertical-align: top;\n",
       "    }\n",
       "</style>\n",
       "<table border=\"1\" class=\"dataframe\">\n",
       "  <thead>\n",
       "    <tr style=\"text-align: right;\">\n",
       "      <th></th>\n",
       "      <th>facid</th>\n",
       "      <th>name</th>\n",
       "      <th>membercost</th>\n",
       "      <th>guestcost</th>\n",
       "      <th>initialoutlay</th>\n",
       "      <th>monthlymaintenance</th>\n",
       "    </tr>\n",
       "  </thead>\n",
       "  <tbody>\n",
       "    <tr>\n",
       "      <th>0</th>\n",
       "      <td>0</td>\n",
       "      <td>Tennis Court 1</td>\n",
       "      <td>5.0</td>\n",
       "      <td>25.0</td>\n",
       "      <td>10000.0</td>\n",
       "      <td>200.0</td>\n",
       "    </tr>\n",
       "    <tr>\n",
       "      <th>1</th>\n",
       "      <td>1</td>\n",
       "      <td>Tennis Court 2</td>\n",
       "      <td>5.0</td>\n",
       "      <td>25.0</td>\n",
       "      <td>8000.0</td>\n",
       "      <td>200.0</td>\n",
       "    </tr>\n",
       "    <tr>\n",
       "      <th>2</th>\n",
       "      <td>3</td>\n",
       "      <td>Table Tennis</td>\n",
       "      <td>0.0</td>\n",
       "      <td>5.0</td>\n",
       "      <td>320.0</td>\n",
       "      <td>10.0</td>\n",
       "    </tr>\n",
       "  </tbody>\n",
       "</table>\n",
       "</div>"
      ],
      "text/plain": [
       "   facid            name  membercost  guestcost  initialoutlay  \\\n",
       "0      0  Tennis Court 1         5.0       25.0        10000.0   \n",
       "1      1  Tennis Court 2         5.0       25.0         8000.0   \n",
       "2      3    Table Tennis         0.0        5.0          320.0   \n",
       "\n",
       "   monthlymaintenance  \n",
       "0               200.0  \n",
       "1               200.0  \n",
       "2                10.0  "
      ]
     },
     "metadata": {},
     "output_type": "display_data"
    }
   ],
   "source": [
    "print_output(\"SELECT * FROM cd.facilities WHERE name LIKE '%Tennis%';\")"
   ]
  },
  {
   "cell_type": "markdown",
   "metadata": {},
   "source": [
    "See all the rows where facid is equal to 1 or 5"
   ]
  },
  {
   "cell_type": "code",
   "execution_count": 116,
   "metadata": {},
   "outputs": [
    {
     "data": {
      "text/html": [
       "<div>\n",
       "<style>\n",
       "    .dataframe thead tr:only-child th {\n",
       "        text-align: right;\n",
       "    }\n",
       "\n",
       "    .dataframe thead th {\n",
       "        text-align: left;\n",
       "    }\n",
       "\n",
       "    .dataframe tbody tr th {\n",
       "        vertical-align: top;\n",
       "    }\n",
       "</style>\n",
       "<table border=\"1\" class=\"dataframe\">\n",
       "  <thead>\n",
       "    <tr style=\"text-align: right;\">\n",
       "      <th></th>\n",
       "      <th>facid</th>\n",
       "      <th>name</th>\n",
       "      <th>membercost</th>\n",
       "      <th>guestcost</th>\n",
       "      <th>initialoutlay</th>\n",
       "      <th>monthlymaintenance</th>\n",
       "    </tr>\n",
       "  </thead>\n",
       "  <tbody>\n",
       "    <tr>\n",
       "      <th>0</th>\n",
       "      <td>1</td>\n",
       "      <td>Tennis Court 2</td>\n",
       "      <td>5.0</td>\n",
       "      <td>25.0</td>\n",
       "      <td>8000.0</td>\n",
       "      <td>200.0</td>\n",
       "    </tr>\n",
       "    <tr>\n",
       "      <th>1</th>\n",
       "      <td>5</td>\n",
       "      <td>Massage Room 2</td>\n",
       "      <td>35.0</td>\n",
       "      <td>80.0</td>\n",
       "      <td>4000.0</td>\n",
       "      <td>3000.0</td>\n",
       "    </tr>\n",
       "  </tbody>\n",
       "</table>\n",
       "</div>"
      ],
      "text/plain": [
       "   facid            name  membercost  guestcost  initialoutlay  \\\n",
       "0      1  Tennis Court 2         5.0       25.0         8000.0   \n",
       "1      5  Massage Room 2        35.0       80.0         4000.0   \n",
       "\n",
       "   monthlymaintenance  \n",
       "0               200.0  \n",
       "1              3000.0  "
      ]
     },
     "metadata": {},
     "output_type": "display_data"
    }
   ],
   "source": [
    "print_output(\"SELECT * FROM cd.facilities WHERE facid IN (1,5);\")"
   ]
  },
  {
   "cell_type": "markdown",
   "metadata": {},
   "source": [
    "How can you produce a list of facilities, with each labelled as 'cheap' or 'expensive' depending on if their monthly maintenance cost is more than $100? Return the name and monthly maintenance of the facilities in question."
   ]
  },
  {
   "cell_type": "code",
   "execution_count": 117,
   "metadata": {},
   "outputs": [
    {
     "data": {
      "text/html": [
       "<div>\n",
       "<style>\n",
       "    .dataframe thead tr:only-child th {\n",
       "        text-align: right;\n",
       "    }\n",
       "\n",
       "    .dataframe thead th {\n",
       "        text-align: left;\n",
       "    }\n",
       "\n",
       "    .dataframe tbody tr th {\n",
       "        vertical-align: top;\n",
       "    }\n",
       "</style>\n",
       "<table border=\"1\" class=\"dataframe\">\n",
       "  <thead>\n",
       "    <tr style=\"text-align: right;\">\n",
       "      <th></th>\n",
       "      <th>name</th>\n",
       "      <th>cost</th>\n",
       "    </tr>\n",
       "  </thead>\n",
       "  <tbody>\n",
       "    <tr>\n",
       "      <th>0</th>\n",
       "      <td>Tennis Court 1</td>\n",
       "      <td>expensive</td>\n",
       "    </tr>\n",
       "    <tr>\n",
       "      <th>1</th>\n",
       "      <td>Tennis Court 2</td>\n",
       "      <td>expensive</td>\n",
       "    </tr>\n",
       "    <tr>\n",
       "      <th>2</th>\n",
       "      <td>Badminton Court</td>\n",
       "      <td>cheap</td>\n",
       "    </tr>\n",
       "    <tr>\n",
       "      <th>3</th>\n",
       "      <td>Table Tennis</td>\n",
       "      <td>cheap</td>\n",
       "    </tr>\n",
       "    <tr>\n",
       "      <th>4</th>\n",
       "      <td>Massage Room 1</td>\n",
       "      <td>expensive</td>\n",
       "    </tr>\n",
       "    <tr>\n",
       "      <th>5</th>\n",
       "      <td>Massage Room 2</td>\n",
       "      <td>expensive</td>\n",
       "    </tr>\n",
       "    <tr>\n",
       "      <th>6</th>\n",
       "      <td>Squash Court</td>\n",
       "      <td>cheap</td>\n",
       "    </tr>\n",
       "    <tr>\n",
       "      <th>7</th>\n",
       "      <td>Snooker Table</td>\n",
       "      <td>cheap</td>\n",
       "    </tr>\n",
       "    <tr>\n",
       "      <th>8</th>\n",
       "      <td>Pool Table</td>\n",
       "      <td>cheap</td>\n",
       "    </tr>\n",
       "  </tbody>\n",
       "</table>\n",
       "</div>"
      ],
      "text/plain": [
       "              name       cost\n",
       "0   Tennis Court 1  expensive\n",
       "1   Tennis Court 2  expensive\n",
       "2  Badminton Court      cheap\n",
       "3     Table Tennis      cheap\n",
       "4   Massage Room 1  expensive\n",
       "5   Massage Room 2  expensive\n",
       "6     Squash Court      cheap\n",
       "7    Snooker Table      cheap\n",
       "8       Pool Table      cheap"
      ]
     },
     "metadata": {},
     "output_type": "display_data"
    }
   ],
   "source": [
    "q = \"\"\"SELECT name, \n",
    "        CASE WHEN monthlymaintenance > 100 THEN 'expensive' \n",
    "            ELSE 'cheap' END AS cost\n",
    "        FROM cd.facilities;\"\"\"\n",
    "\n",
    "print_output(q)"
   ]
  },
  {
   "cell_type": "markdown",
   "metadata": {},
   "source": [
    "How can you produce a list of members who joined after the start of September 2012? Return the memid, surname, firstname, and joindate of the members in question."
   ]
  },
  {
   "cell_type": "code",
   "execution_count": 118,
   "metadata": {},
   "outputs": [
    {
     "data": {
      "text/html": [
       "<div>\n",
       "<style>\n",
       "    .dataframe thead tr:only-child th {\n",
       "        text-align: right;\n",
       "    }\n",
       "\n",
       "    .dataframe thead th {\n",
       "        text-align: left;\n",
       "    }\n",
       "\n",
       "    .dataframe tbody tr th {\n",
       "        vertical-align: top;\n",
       "    }\n",
       "</style>\n",
       "<table border=\"1\" class=\"dataframe\">\n",
       "  <thead>\n",
       "    <tr style=\"text-align: right;\">\n",
       "      <th></th>\n",
       "      <th>memid</th>\n",
       "      <th>surname</th>\n",
       "      <th>firstname</th>\n",
       "      <th>joindate</th>\n",
       "    </tr>\n",
       "  </thead>\n",
       "  <tbody>\n",
       "    <tr>\n",
       "      <th>0</th>\n",
       "      <td>24</td>\n",
       "      <td>Sarwin</td>\n",
       "      <td>Ramnaresh</td>\n",
       "      <td>2012-09-01 08:44:42</td>\n",
       "    </tr>\n",
       "    <tr>\n",
       "      <th>1</th>\n",
       "      <td>26</td>\n",
       "      <td>Jones</td>\n",
       "      <td>Douglas</td>\n",
       "      <td>2012-09-02 18:43:05</td>\n",
       "    </tr>\n",
       "    <tr>\n",
       "      <th>2</th>\n",
       "      <td>27</td>\n",
       "      <td>Rumney</td>\n",
       "      <td>Henrietta</td>\n",
       "      <td>2012-09-05 08:42:35</td>\n",
       "    </tr>\n",
       "    <tr>\n",
       "      <th>3</th>\n",
       "      <td>28</td>\n",
       "      <td>Farrell</td>\n",
       "      <td>David</td>\n",
       "      <td>2012-09-15 08:22:05</td>\n",
       "    </tr>\n",
       "    <tr>\n",
       "      <th>4</th>\n",
       "      <td>29</td>\n",
       "      <td>Worthington-Smyth</td>\n",
       "      <td>Henry</td>\n",
       "      <td>2012-09-17 12:27:15</td>\n",
       "    </tr>\n",
       "    <tr>\n",
       "      <th>5</th>\n",
       "      <td>30</td>\n",
       "      <td>Purview</td>\n",
       "      <td>Millicent</td>\n",
       "      <td>2012-09-18 19:04:01</td>\n",
       "    </tr>\n",
       "    <tr>\n",
       "      <th>6</th>\n",
       "      <td>33</td>\n",
       "      <td>Tupperware</td>\n",
       "      <td>Hyacinth</td>\n",
       "      <td>2012-09-18 19:32:05</td>\n",
       "    </tr>\n",
       "    <tr>\n",
       "      <th>7</th>\n",
       "      <td>35</td>\n",
       "      <td>Hunt</td>\n",
       "      <td>John</td>\n",
       "      <td>2012-09-19 11:32:45</td>\n",
       "    </tr>\n",
       "    <tr>\n",
       "      <th>8</th>\n",
       "      <td>36</td>\n",
       "      <td>Crumpet</td>\n",
       "      <td>Erica</td>\n",
       "      <td>2012-09-22 08:36:38</td>\n",
       "    </tr>\n",
       "    <tr>\n",
       "      <th>9</th>\n",
       "      <td>37</td>\n",
       "      <td>Smith</td>\n",
       "      <td>Darren</td>\n",
       "      <td>2012-09-26 18:08:45</td>\n",
       "    </tr>\n",
       "  </tbody>\n",
       "</table>\n",
       "</div>"
      ],
      "text/plain": [
       "   memid            surname  firstname            joindate\n",
       "0     24             Sarwin  Ramnaresh 2012-09-01 08:44:42\n",
       "1     26              Jones    Douglas 2012-09-02 18:43:05\n",
       "2     27             Rumney  Henrietta 2012-09-05 08:42:35\n",
       "3     28            Farrell      David 2012-09-15 08:22:05\n",
       "4     29  Worthington-Smyth      Henry 2012-09-17 12:27:15\n",
       "5     30            Purview  Millicent 2012-09-18 19:04:01\n",
       "6     33         Tupperware   Hyacinth 2012-09-18 19:32:05\n",
       "7     35               Hunt       John 2012-09-19 11:32:45\n",
       "8     36            Crumpet      Erica 2012-09-22 08:36:38\n",
       "9     37              Smith     Darren 2012-09-26 18:08:45"
      ]
     },
     "metadata": {},
     "output_type": "display_data"
    }
   ],
   "source": [
    "print_output(\"SELECT memid, surname, firstname, joindate FROM cd.members WHERE joindate > '2012-08-31';\")"
   ]
  },
  {
   "cell_type": "markdown",
   "metadata": {},
   "source": [
    "How can you produce an ordered list of the first 10 surnames in the members table? The list must not contain duplicates."
   ]
  },
  {
   "cell_type": "code",
   "execution_count": 119,
   "metadata": {},
   "outputs": [
    {
     "data": {
      "text/html": [
       "<div>\n",
       "<style>\n",
       "    .dataframe thead tr:only-child th {\n",
       "        text-align: right;\n",
       "    }\n",
       "\n",
       "    .dataframe thead th {\n",
       "        text-align: left;\n",
       "    }\n",
       "\n",
       "    .dataframe tbody tr th {\n",
       "        vertical-align: top;\n",
       "    }\n",
       "</style>\n",
       "<table border=\"1\" class=\"dataframe\">\n",
       "  <thead>\n",
       "    <tr style=\"text-align: right;\">\n",
       "      <th></th>\n",
       "      <th>surname</th>\n",
       "    </tr>\n",
       "  </thead>\n",
       "  <tbody>\n",
       "    <tr>\n",
       "      <th>0</th>\n",
       "      <td>Bader</td>\n",
       "    </tr>\n",
       "    <tr>\n",
       "      <th>1</th>\n",
       "      <td>Baker</td>\n",
       "    </tr>\n",
       "    <tr>\n",
       "      <th>2</th>\n",
       "      <td>Boothe</td>\n",
       "    </tr>\n",
       "    <tr>\n",
       "      <th>3</th>\n",
       "      <td>Butters</td>\n",
       "    </tr>\n",
       "    <tr>\n",
       "      <th>4</th>\n",
       "      <td>Coplin</td>\n",
       "    </tr>\n",
       "    <tr>\n",
       "      <th>5</th>\n",
       "      <td>Crumpet</td>\n",
       "    </tr>\n",
       "    <tr>\n",
       "      <th>6</th>\n",
       "      <td>Dare</td>\n",
       "    </tr>\n",
       "    <tr>\n",
       "      <th>7</th>\n",
       "      <td>Farrell</td>\n",
       "    </tr>\n",
       "    <tr>\n",
       "      <th>8</th>\n",
       "      <td>Genting</td>\n",
       "    </tr>\n",
       "    <tr>\n",
       "      <th>9</th>\n",
       "      <td>GUEST</td>\n",
       "    </tr>\n",
       "  </tbody>\n",
       "</table>\n",
       "</div>"
      ],
      "text/plain": [
       "   surname\n",
       "0    Bader\n",
       "1    Baker\n",
       "2   Boothe\n",
       "3  Butters\n",
       "4   Coplin\n",
       "5  Crumpet\n",
       "6     Dare\n",
       "7  Farrell\n",
       "8  Genting\n",
       "9    GUEST"
      ]
     },
     "metadata": {},
     "output_type": "display_data"
    }
   ],
   "source": [
    "print_output(\"SELECT DISTINCT surname FROM cd.members ORDER BY surname LIMIT 10;\")"
   ]
  },
  {
   "cell_type": "markdown",
   "metadata": {},
   "source": [
    "You, for some reason, want a combined list of all surnames and all facility names. Yes, this is a contrived example. Produce that list!"
   ]
  },
  {
   "cell_type": "code",
   "execution_count": 124,
   "metadata": {},
   "outputs": [
    {
     "data": {
      "text/html": [
       "<div>\n",
       "<style>\n",
       "    .dataframe thead tr:only-child th {\n",
       "        text-align: right;\n",
       "    }\n",
       "\n",
       "    .dataframe thead th {\n",
       "        text-align: left;\n",
       "    }\n",
       "\n",
       "    .dataframe tbody tr th {\n",
       "        vertical-align: top;\n",
       "    }\n",
       "</style>\n",
       "<table border=\"1\" class=\"dataframe\">\n",
       "  <thead>\n",
       "    <tr style=\"text-align: right;\">\n",
       "      <th></th>\n",
       "      <th>surname</th>\n",
       "    </tr>\n",
       "  </thead>\n",
       "  <tbody>\n",
       "    <tr>\n",
       "      <th>0</th>\n",
       "      <td>Tennis Court 2</td>\n",
       "    </tr>\n",
       "    <tr>\n",
       "      <th>1</th>\n",
       "      <td>Worthington-Smyth</td>\n",
       "    </tr>\n",
       "    <tr>\n",
       "      <th>2</th>\n",
       "      <td>Badminton Court</td>\n",
       "    </tr>\n",
       "    <tr>\n",
       "      <th>3</th>\n",
       "      <td>Pinker</td>\n",
       "    </tr>\n",
       "    <tr>\n",
       "      <th>4</th>\n",
       "      <td>Dare</td>\n",
       "    </tr>\n",
       "    <tr>\n",
       "      <th>5</th>\n",
       "      <td>Bader</td>\n",
       "    </tr>\n",
       "    <tr>\n",
       "      <th>6</th>\n",
       "      <td>Mackenzie</td>\n",
       "    </tr>\n",
       "    <tr>\n",
       "      <th>...</th>\n",
       "      <td>...</td>\n",
       "    </tr>\n",
       "    <tr>\n",
       "      <th>27</th>\n",
       "      <td>Farrell</td>\n",
       "    </tr>\n",
       "    <tr>\n",
       "      <th>28</th>\n",
       "      <td>Tennis Court 1</td>\n",
       "    </tr>\n",
       "    <tr>\n",
       "      <th>29</th>\n",
       "      <td>Snooker Table</td>\n",
       "    </tr>\n",
       "    <tr>\n",
       "      <th>30</th>\n",
       "      <td>Owen</td>\n",
       "    </tr>\n",
       "    <tr>\n",
       "      <th>31</th>\n",
       "      <td>Table Tennis</td>\n",
       "    </tr>\n",
       "    <tr>\n",
       "      <th>32</th>\n",
       "      <td>GUEST</td>\n",
       "    </tr>\n",
       "    <tr>\n",
       "      <th>33</th>\n",
       "      <td>Jones</td>\n",
       "    </tr>\n",
       "  </tbody>\n",
       "</table>\n",
       "<p>34 rows × 1 columns</p>\n",
       "</div>"
      ],
      "text/plain": [
       "              surname\n",
       "0      Tennis Court 2\n",
       "1   Worthington-Smyth\n",
       "2     Badminton Court\n",
       "3              Pinker\n",
       "4                Dare\n",
       "5               Bader\n",
       "6           Mackenzie\n",
       "..                ...\n",
       "27            Farrell\n",
       "28     Tennis Court 1\n",
       "29      Snooker Table\n",
       "30               Owen\n",
       "31       Table Tennis\n",
       "32              GUEST\n",
       "33              Jones\n",
       "\n",
       "[34 rows x 1 columns]"
      ]
     },
     "metadata": {},
     "output_type": "display_data"
    }
   ],
   "source": [
    "print_output(\"SELECT surname FROM cd.members UNION SELECT name FROM cd.facilities;\")"
   ]
  },
  {
   "cell_type": "markdown",
   "metadata": {},
   "source": [
    "You'd like to get the signup date of your last member. How can you retrieve this information?"
   ]
  },
  {
   "cell_type": "code",
   "execution_count": 127,
   "metadata": {},
   "outputs": [
    {
     "data": {
      "text/html": [
       "<div>\n",
       "<style>\n",
       "    .dataframe thead tr:only-child th {\n",
       "        text-align: right;\n",
       "    }\n",
       "\n",
       "    .dataframe thead th {\n",
       "        text-align: left;\n",
       "    }\n",
       "\n",
       "    .dataframe tbody tr th {\n",
       "        vertical-align: top;\n",
       "    }\n",
       "</style>\n",
       "<table border=\"1\" class=\"dataframe\">\n",
       "  <thead>\n",
       "    <tr style=\"text-align: right;\">\n",
       "      <th></th>\n",
       "      <th>most_recent_join_date</th>\n",
       "    </tr>\n",
       "  </thead>\n",
       "  <tbody>\n",
       "    <tr>\n",
       "      <th>0</th>\n",
       "      <td>2012-09-26 18:08:45</td>\n",
       "    </tr>\n",
       "  </tbody>\n",
       "</table>\n",
       "</div>"
      ],
      "text/plain": [
       "  most_recent_join_date\n",
       "0   2012-09-26 18:08:45"
      ]
     },
     "metadata": {},
     "output_type": "display_data"
    }
   ],
   "source": [
    "print_output(\"SELECT max(joindate) AS most_recent_join_date FROM cd.members;\")"
   ]
  },
  {
   "cell_type": "code",
   "execution_count": 128,
   "metadata": {},
   "outputs": [
    {
     "data": {
      "text/html": [
       "<div>\n",
       "<style>\n",
       "    .dataframe thead tr:only-child th {\n",
       "        text-align: right;\n",
       "    }\n",
       "\n",
       "    .dataframe thead th {\n",
       "        text-align: left;\n",
       "    }\n",
       "\n",
       "    .dataframe tbody tr th {\n",
       "        vertical-align: top;\n",
       "    }\n",
       "</style>\n",
       "<table border=\"1\" class=\"dataframe\">\n",
       "  <thead>\n",
       "    <tr style=\"text-align: right;\">\n",
       "      <th></th>\n",
       "      <th>firstname</th>\n",
       "      <th>surname</th>\n",
       "      <th>joindate</th>\n",
       "    </tr>\n",
       "  </thead>\n",
       "  <tbody>\n",
       "    <tr>\n",
       "      <th>0</th>\n",
       "      <td>Darren</td>\n",
       "      <td>Smith</td>\n",
       "      <td>2012-09-26 18:08:45</td>\n",
       "    </tr>\n",
       "  </tbody>\n",
       "</table>\n",
       "</div>"
      ],
      "text/plain": [
       "  firstname surname            joindate\n",
       "0    Darren   Smith 2012-09-26 18:08:45"
      ]
     },
     "metadata": {},
     "output_type": "display_data"
    }
   ],
   "source": [
    "print_output(\"\"\"SELECT firstname, surname, joindate FROM cd.members WHERE joindate = \n",
    "(SELECT max(joindate) FROM cd.members);\"\"\")"
   ]
  }
 ],
 "metadata": {
  "kernelspec": {
   "display_name": "Python 3",
   "language": "python",
   "name": "python3"
  },
  "language_info": {
   "codemirror_mode": {
    "name": "ipython",
    "version": 3
   },
   "file_extension": ".py",
   "mimetype": "text/x-python",
   "name": "python",
   "nbconvert_exporter": "python",
   "pygments_lexer": "ipython3",
   "version": "3.6.3"
  }
 },
 "nbformat": 4,
 "nbformat_minor": 2
}
